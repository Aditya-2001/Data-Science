{
 "cells": [
  {
   "cell_type": "code",
   "execution_count": 1,
   "id": "840bcd4b",
   "metadata": {},
   "outputs": [],
   "source": [
    "from sklearn.metrics import accuracy_score"
   ]
  },
  {
   "cell_type": "code",
   "execution_count": 2,
   "id": "84a1c8c9",
   "metadata": {},
   "outputs": [],
   "source": [
    "actual=['a','m','a','o','o','m','a','o','o','m']\n",
    "prediction=['a','a','a','o','a','m','a','o','o','o']"
   ]
  },
  {
   "cell_type": "code",
   "execution_count": 3,
   "id": "b52d3cdb",
   "metadata": {},
   "outputs": [
    {
     "name": "stdout",
     "output_type": "stream",
     "text": [
      "0.7\n"
     ]
    }
   ],
   "source": [
    "print(accuracy_score(actual,prediction))"
   ]
  },
  {
   "cell_type": "code",
   "execution_count": 4,
   "id": "21a64456",
   "metadata": {},
   "outputs": [],
   "source": [
    "from sklearn.metrics import confusion_matrix"
   ]
  },
  {
   "cell_type": "code",
   "execution_count": 5,
   "id": "5dfe9eb0",
   "metadata": {},
   "outputs": [
    {
     "name": "stdout",
     "output_type": "stream",
     "text": [
      "[[3 0 0]\n",
      " [1 1 1]\n",
      " [1 0 3]]\n"
     ]
    }
   ],
   "source": [
    "print(confusion_matrix(actual,prediction))"
   ]
  },
  {
   "cell_type": "code",
   "execution_count": 7,
   "id": "ae5ca068",
   "metadata": {},
   "outputs": [],
   "source": [
    "from sklearn.metrics import classification_report"
   ]
  },
  {
   "cell_type": "code",
   "execution_count": 8,
   "id": "99a30553",
   "metadata": {},
   "outputs": [
    {
     "name": "stdout",
     "output_type": "stream",
     "text": [
      "              precision    recall  f1-score   support\n",
      "\n",
      "           a       0.60      1.00      0.75         3\n",
      "           m       1.00      0.33      0.50         3\n",
      "           o       0.75      0.75      0.75         4\n",
      "\n",
      "    accuracy                           0.70        10\n",
      "   macro avg       0.78      0.69      0.67        10\n",
      "weighted avg       0.78      0.70      0.68        10\n",
      "\n"
     ]
    }
   ],
   "source": [
    "print(classification_report(actual,prediction))"
   ]
  },
  {
   "cell_type": "code",
   "execution_count": null,
   "id": "3b77990b",
   "metadata": {},
   "outputs": [],
   "source": []
  }
 ],
 "metadata": {
  "kernelspec": {
   "display_name": "Python 3",
   "language": "python",
   "name": "python3"
  },
  "language_info": {
   "codemirror_mode": {
    "name": "ipython",
    "version": 3
   },
   "file_extension": ".py",
   "mimetype": "text/x-python",
   "name": "python",
   "nbconvert_exporter": "python",
   "pygments_lexer": "ipython3",
   "version": "3.8.8"
  }
 },
 "nbformat": 4,
 "nbformat_minor": 5
}
